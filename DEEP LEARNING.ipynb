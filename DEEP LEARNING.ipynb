{
 "cells": [
  {
   "cell_type": "markdown",
   "metadata": {},
   "source": [
    "# Deep Learning Verkehrszeichen"
   ]
  },
  {
   "cell_type": "markdown",
   "metadata": {},
   "source": [
    "Made by [Sharkbyteprojects](https://github.com/sharkbyteprojects)"
   ]
  },
  {
   "cell_type": "markdown",
   "metadata": {},
   "source": [
    "Need\n",
    "- Keras\n",
    "- SKLEARN\n",
    "- numpy"
   ]
  },
  {
   "cell_type": "code",
   "execution_count": null,
   "metadata": {},
   "outputs": [],
   "source": [
    "from keras.layers import Input\n",
    "import numpy as np\n",
    "from keras.layers import Dense\n",
    "inputs=Input(shape=(4,))\n",
    "fc=Dense(3)(inputs)\n",
    "from keras.models import Model\n",
    "model=Model(input=inputs,output=fc)"
   ]
  },
  {
   "cell_type": "markdown",
   "metadata": {},
   "source": [
    "Zeige infos über Model:"
   ]
  },
  {
   "cell_type": "code",
   "execution_count": null,
   "metadata": {},
   "outputs": [],
   "source": [
    "model.summary()"
   ]
  },
  {
   "cell_type": "markdown",
   "metadata": {},
   "source": [
    "Compile:\n"
   ]
  },
  {
   "cell_type": "code",
   "execution_count": null,
   "metadata": {},
   "outputs": [],
   "source": [
    "model.compile(optimizer=\"adam\",\n",
    "             loss=\"categorical_crossentropy\",\n",
    "             metrics=[\"accuracy\"])\n",
    "predictionss=Dense(8,activation=\"softmax\")(fc)\n",
    "predictions=Dense(3,activation=\"softmax\")(predictionss)"
   ]
  },
  {
   "cell_type": "markdown",
   "metadata": {},
   "source": [
    "Test of Model:"
   ]
  },
  {
   "cell_type": "code",
   "execution_count": null,
   "metadata": {},
   "outputs": [],
   "source": [
    "az=model.predict(np.array([[5.1,5.3,1.4,0.2]]))"
   ]
  },
  {
   "cell_type": "markdown",
   "metadata": {},
   "source": [
    "Recompile and Retry\n"
   ]
  },
  {
   "cell_type": "code",
   "execution_count": null,
   "metadata": {},
   "outputs": [],
   "source": [
    "model=Model(input=inputs,output=predictions)\n",
    "model.compile(optimizer=\"adam\",\n",
    "             loss=\"categorical_crossentropy\",\n",
    "             metrics=[\"accuracy\"])\n",
    "model.summary()\n",
    "aza=model.predict(np.array([[5.1,5.3,1.4,0.2]]))"
   ]
  },
  {
   "cell_type": "markdown",
   "metadata": {},
   "source": [
    "train it\n"
   ]
  },
  {
   "cell_type": "code",
   "execution_count": null,
   "metadata": {},
   "outputs": [],
   "source": [
    "from sklearn import datasets\n",
    "iris =datasets.load_iris()\n",
    "X=np.array(iris.data)\n",
    "y=np.array(iris.target)\n",
    "X.shape, y.shape\n",
    "from keras.utils.np_utils import to_categorical\n",
    "y=to_categorical(y,3)\n",
    "from sklearn.model_selection import train_test_split\n",
    "X_train,X_test,y_train,y_test=train_test_split(X,y,test_size=0.20,random_state=42,stratify=y)"
   ]
  },
  {
   "cell_type": "markdown",
   "metadata": {},
   "source": [
    "complete prepare for train, start train:\n"
   ]
  },
  {
   "cell_type": "code",
   "execution_count": null,
   "metadata": {},
   "outputs": [],
   "source": [
    "model.fit(X_train, y_train,epochs=500,validation_split=0.3)"
   ]
  },
  {
   "cell_type": "markdown",
   "metadata": {},
   "source": [
    "Test\n"
   ]
  },
  {
   "cell_type": "code",
   "execution_count": null,
   "metadata": {},
   "outputs": [],
   "source": [
    "print(\"1. 1 Neuron\")\n",
    "print(az)\n",
    "print(\"2. 2 Neuron:\")\n",
    "print(aza)\n",
    "print(\"3. Train\")\n",
    "print(model.predict(np.array([[5.1,5.3,1.4,0.2]])))"
   ]
  },
  {
   "cell_type": "markdown",
   "metadata": {},
   "source": [
    "using testdata"
   ]
  },
  {
   "cell_type": "code",
   "execution_count": null,
   "metadata": {},
   "outputs": [],
   "source": [
    "train_loss, train_accuracy=model.evaluate(X_train, y_train)\n",
    "train_loss, train_accuracy"
   ]
  },
  {
   "cell_type": "code",
   "execution_count": null,
   "metadata": {},
   "outputs": [],
   "source": [
    "train_loss, train_accuracy=model.evaluate(X_test, y_test)\n",
    "train_loss, train_accuracy"
   ]
  },
  {
   "cell_type": "markdown",
   "metadata": {},
   "source": [
    "### HOW TO:\n",
    "Using This Iris Framework (Data in MM)"
   ]
  },
  {
   "cell_type": "code",
   "execution_count": null,
   "metadata": {},
   "outputs": [],
   "source": [
    "print(model.predict(np.array([[5.1,5.3,1.4,0.2]])))#RANGE: SEPAL LENGHT, SEPAL WIDTH,PETAL LENGHT, PETAL WIDTH"
   ]
  },
  {
   "cell_type": "markdown",
   "metadata": {},
   "source": [
    "---\n",
    "\n",
    "## Vergleich mit ML"
   ]
  },
  {
   "cell_type": "code",
   "execution_count": null,
   "metadata": {},
   "outputs": [],
   "source": [
    "Xy=iris.data\n",
    "yy=iris.data\n",
    "Xy_sepal_lenght=Xy[:,0]\n",
    "Xy_sepal_width=Xy[:,1]\n",
    "Xy_petal_lenght=Xy[:,2]\n",
    "Xy_sepal_width=Xy[:,3]\n",
    "from sklearn.model_selection import train_test_split\n",
    "Xy_train, Xy_test, yy_train, yy_test=train_test_split(X,y,test_size=0.4)\n",
    "#USING NEAREST NEIGHBORS\n",
    "from sklearn import neighbors\n",
    "clf=neighbors.KNeighborsClassifier(1)\n",
    "clf.fit(Xy_train,yy_train)\n",
    "print(clf.score(Xy_train,yy_train))\n",
    "print(clf.score(Xy_test,yy_test))"
   ]
  },
  {
   "cell_type": "markdown",
   "metadata": {},
   "source": [
    "## Vergleich"
   ]
  },
  {
   "cell_type": "code",
   "execution_count": null,
   "metadata": {},
   "outputs": [],
   "source": [
    "print(\"Deep Learning:\")\n",
    "deplearn=model.predict(np.array([[6.3,2.7,5.5,1.5]]))\n",
    "print(\"Probability for zero in percent\")\n",
    "print(round(deplearn[0][0]*100,1))\n",
    "print(\"Probability for one in percent\")\n",
    "print(round(deplearn[0][1]*100,1))\n",
    "print(\"Probability for two in percent\")\n",
    "print(round(deplearn[0][2]*100,1))"
   ]
  },
  {
   "cell_type": "code",
   "execution_count": null,
   "metadata": {},
   "outputs": [],
   "source": [
    "print(\"ML:\")\n",
    "clf.predict([[6.3,2.7,5.5,1.5]])"
   ]
  },
  {
   "cell_type": "code",
   "execution_count": null,
   "metadata": {},
   "outputs": [],
   "source": []
  }
 ],
 "metadata": {
  "kernelspec": {
   "display_name": "Python 3",
   "language": "python",
   "name": "python3"
  },
  "language_info": {
   "codemirror_mode": {
    "name": "ipython",
    "version": 3
   },
   "file_extension": ".py",
   "mimetype": "text/x-python",
   "name": "python",
   "nbconvert_exporter": "python",
   "pygments_lexer": "ipython3",
   "version": "3.7.4"
  }
 },
 "nbformat": 4,
 "nbformat_minor": 4
}
